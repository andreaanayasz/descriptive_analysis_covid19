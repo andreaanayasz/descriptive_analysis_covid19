{
 "cells": [
  {
   "cell_type": "code",
   "execution_count": 1,
   "metadata": {
    "ExecuteTime": {
     "end_time": "2021-06-03T05:53:44.913219Z",
     "start_time": "2021-06-03T05:53:44.900219Z"
    }
   },
   "outputs": [],
   "source": [
    "import pandas as pd\n",
    "import os\n",
    "import numpy as np"
   ]
  },
  {
   "cell_type": "code",
   "execution_count": 2,
   "metadata": {
    "ExecuteTime": {
     "end_time": "2021-06-03T05:53:45.116336Z",
     "start_time": "2021-06-03T05:53:45.101340Z"
    }
   },
   "outputs": [],
   "source": [
    "# ANDREA CAMBIA ESTO\n",
    "CONTEO_MINIMO = 1"
   ]
  },
  {
   "cell_type": "markdown",
   "metadata": {},
   "source": [
    "### -------------------------------------------------------------------------------------------------------------------------------"
   ]
  },
  {
   "cell_type": "code",
   "execution_count": 14,
   "metadata": {
    "ExecuteTime": {
     "end_time": "2021-06-03T05:53:47.014928Z",
     "start_time": "2021-06-03T05:53:46.996860Z"
    }
   },
   "outputs": [],
   "source": [
    "comedicaciones_dir = \"2020_covid_comedicaciones/\""
   ]
  },
  {
   "cell_type": "code",
   "execution_count": 15,
   "metadata": {
    "ExecuteTime": {
     "end_time": "2021-06-03T05:53:48.164976Z",
     "start_time": "2021-06-03T05:53:48.124977Z"
    }
   },
   "outputs": [],
   "source": [
    "comedicaciones = pd.read_excel(\"co-medicaciones.xlsx\")\n",
    "comedicaciones = comedicaciones[comedicaciones.medicamento != comedicaciones.medicamento_principal.str.lower()]\n",
    "comedicaciones['comeds'] = comedicaciones.medicamento.str.lower() + \"_\" + comedicaciones.medicamento_principal.str.lower()\n",
    "\n",
    "def order_comeds(comeds):\n",
    "    ordering = comeds.split(\"_\")\n",
    "    ordering.sort()\n",
    "    return \"_\".join(ordering)\n",
    "\n",
    "comedicaciones['comeds'] = comedicaciones.comeds.apply(lambda x: order_comeds(x))\n",
    "comedicaciones = comedicaciones[[\"comeds\", \"conteo\"]]\n",
    "comedicaciones = comedicaciones.groupby('comeds').sum()\n",
    "comedicaciones = comedicaciones.reset_index()"
   ]
  },
  {
   "cell_type": "code",
   "execution_count": 16,
   "metadata": {
    "ExecuteTime": {
     "end_time": "2021-06-03T05:53:48.634003Z",
     "start_time": "2021-06-03T05:53:48.629002Z"
    }
   },
   "outputs": [],
   "source": [
    "comedicaciones = comedicaciones[comedicaciones.conteo >= 2].sort_values(by=\"conteo\", ascending=False)"
   ]
  },
  {
   "cell_type": "code",
   "execution_count": 17,
   "metadata": {
    "ExecuteTime": {
     "end_time": "2021-06-03T05:53:49.021934Z",
     "start_time": "2021-06-03T05:53:49.012937Z"
    }
   },
   "outputs": [],
   "source": [
    "def join_and_filter_by_keyword(df, keyword):\n",
    "    df[\"unidos\"] = \"\"\n",
    "    for col in df.columns:\n",
    "        df[\"unidos\"] = df[\"unidos\"].values + \" \" + df[col].astype(str).values\n",
    "        \n",
    "    df[\"unidos\"] = df.unidos.str.lower()\n",
    "\n",
    "    df = df[df.unidos.str.contains(keyword)]\n",
    "    return df"
   ]
  },
  {
   "cell_type": "code",
   "execution_count": 18,
   "metadata": {
    "ExecuteTime": {
     "end_time": "2021-06-03T05:53:49.412110Z",
     "start_time": "2021-06-03T05:53:49.396969Z"
    }
   },
   "outputs": [],
   "source": [
    "# ANDREA - YA QUE AGREGES LOS ARCHIVOS VACIA LA LISTA (IGNORE_LIST = [])\n",
    "IGNORE_LIST =  []"
   ]
  },
  {
   "cell_type": "code",
   "execution_count": 19,
   "metadata": {
    "ExecuteTime": {
     "end_time": "2021-06-03T05:53:50.195874Z",
     "start_time": "2021-06-03T05:53:50.181862Z"
    }
   },
   "outputs": [],
   "source": [
    "def get_combined_df(comeds_keyword):\n",
    "    medicamento1, medicamento2 = comeds_keyword.split(\"_\")\n",
    "    if medicamento1 in IGNORE_LIST or medicamento2 in IGNORE_LIST:\n",
    "        return pd.DataFrame()\n",
    "    excel_filename1 = medicamento1.upper() + \"_comedicaciones.xlsx\"\n",
    "    excel_filename1 = os.path.join(comedicaciones_dir, excel_filename1)\n",
    "\n",
    "    med1_df = pd.read_excel(excel_filename1)\n",
    "    med1_df = join_and_filter_by_keyword(med1_df, medicamento2)\n",
    "        \n",
    "    excel_filename2 = medicamento2.upper() + \"_comedicaciones.xlsx\"\n",
    "    excel_filename2 = os.path.join(comedicaciones_dir, excel_filename2)\n",
    "\n",
    "    med2_df = pd.read_excel(excel_filename2)\n",
    "    med2_df = join_and_filter_by_keyword(med2_df, medicamento1)\n",
    "    \n",
    "    final_df = med1_df.append(med2_df)\n",
    "    final_df = final_df.drop_duplicates(subset=\"Report Id\")\n",
    "    return final_df"
   ]
  },
  {
   "cell_type": "code",
   "execution_count": 20,
   "metadata": {
    "ExecuteTime": {
     "end_time": "2021-06-03T05:53:51.100691Z",
     "start_time": "2021-06-03T05:53:51.084680Z"
    }
   },
   "outputs": [],
   "source": [
    "# def get_real_count(comeds):\n",
    "#     temp_df = get_combined_df(comeds)\n",
    "#     return temp_df.shape[0]\n",
    "\n",
    "# comedicaciones[\"real_count\"] = comedicaciones.comeds.apply(lambda x: get_real_count(x))\n",
    "\n",
    "# comedicaciones = comedicaciones[comedicaciones.real_count >= CONTEO_MINIMO].sort_values(by=\"real_count\", ascending=False)"
   ]
  },
  {
   "cell_type": "code",
   "execution_count": 21,
   "metadata": {
    "ExecuteTime": {
     "end_time": "2021-06-03T05:55:00.467425Z",
     "start_time": "2021-06-03T05:55:00.459427Z"
    }
   },
   "outputs": [],
   "source": [
    "def get_statistics(df):\n",
    "    print(\"Number of Cases: {}\\n\".format(df.shape[0]))\n",
    "    print(\"Country Counts:\")\n",
    "    print(final_df[\"Reporter Country\"].value_counts())\n",
    "    \n",
    "    print(\"\\nAge Group Counts:\")\n",
    "    print(final_df['Age Group'].value_counts())"
   ]
  },
  {
   "cell_type": "markdown",
   "metadata": {},
   "source": [
    "### -------------------------------------------------------------------------------------------------------------------------------"
   ]
  },
  {
   "cell_type": "code",
   "execution_count": 3,
   "metadata": {},
   "outputs": [
    {
     "ename": "NameError",
     "evalue": "name 'comedicaciones' is not defined",
     "output_type": "error",
     "traceback": [
      "\u001b[0;31m---------------------------------------------------------------------------\u001b[0m",
      "\u001b[0;31mNameError\u001b[0m                                 Traceback (most recent call last)",
      "\u001b[0;32m<ipython-input-3-5675684e9b3e>\u001b[0m in \u001b[0;36m<module>\u001b[0;34m\u001b[0m\n\u001b[0;32m----> 1\u001b[0;31m \u001b[0mcomedicaciones\u001b[0m\u001b[0;34m\u001b[0m\u001b[0;34m\u001b[0m\u001b[0m\n\u001b[0m",
      "\u001b[0;31mNameError\u001b[0m: name 'comedicaciones' is not defined"
     ]
    }
   ],
   "source": [
    "comedicaciones"
   ]
  },
  {
   "cell_type": "code",
   "execution_count": 23,
   "metadata": {},
   "outputs": [],
   "source": [
    "comedicaciones.to_excel(\"comedicaciones_list.xlsx\", index = False)"
   ]
  },
  {
   "cell_type": "code",
   "execution_count": 24,
   "metadata": {
    "ExecuteTime": {
     "end_time": "2021-06-03T05:54:59.132065Z",
     "start_time": "2021-06-03T05:54:59.123053Z"
    }
   },
   "outputs": [],
   "source": [
    "# ANDREA PON EL NOMBRE DE LOS COMEDS AQUI\n",
    "COMED_KEYWORD = \"hydroxychloroquine_lopinavir-ritonavir\""
   ]
  },
  {
   "cell_type": "code",
   "execution_count": 25,
   "metadata": {
    "ExecuteTime": {
     "end_time": "2021-06-03T05:55:00.341138Z",
     "start_time": "2021-06-03T05:55:00.156129Z"
    }
   },
   "outputs": [],
   "source": [
    "final_df = get_combined_df(COMED_KEYWORD)"
   ]
  },
  {
   "cell_type": "code",
   "execution_count": 26,
   "metadata": {
    "ExecuteTime": {
     "end_time": "2021-06-03T05:55:01.820304Z",
     "start_time": "2021-06-03T05:55:01.803547Z"
    }
   },
   "outputs": [
    {
     "name": "stdout",
     "output_type": "stream",
     "text": [
      "Number of Cases: 43\n",
      "\n",
      "Country Counts:\n",
      "Italy          17\n",
      "Spain           9\n",
      "Iran            6\n",
      "USA             2\n",
      "South Korea     2\n",
      "Switzerland     1\n",
      "Bahrain         1\n",
      "Iraq            1\n",
      "Brunei          1\n",
      "Qatar           1\n",
      "Name: Reporter Country, dtype: int64\n",
      "\n",
      "Age Group Counts:\n",
      "Elderly        17\n",
      "Adolescents     1\n",
      "Children        1\n",
      "Infants         1\n",
      "Name: Age Group, dtype: int64\n"
     ]
    }
   ],
   "source": [
    "get_statistics(final_df)"
   ]
  },
  {
   "cell_type": "code",
   "execution_count": 10,
   "metadata": {},
   "outputs": [],
   "source": [
    "commorbilities = pd.read_excel(\"Relación muertes-fármaco.xlsx\")"
   ]
  },
  {
   "cell_type": "code",
   "execution_count": 3,
   "metadata": {},
   "outputs": [],
   "source": [
    "commorbilities_counts = commorbilities[\"COMMORBILITIES\"].value_counts()"
   ]
  },
  {
   "cell_type": "code",
   "execution_count": 4,
   "metadata": {},
   "outputs": [],
   "source": [
    "commorbilities_counts.to_excel(\"commorbility_count.xlsx\", index=True)"
   ]
  },
  {
   "cell_type": "code",
   "execution_count": 5,
   "metadata": {},
   "outputs": [],
   "source": [
    "deaths = pd.read_excel(\"Relación muertes-fármaco.xlsx\")"
   ]
  },
  {
   "cell_type": "code",
   "execution_count": 6,
   "metadata": {},
   "outputs": [],
   "source": [
    "deaths_counts = deaths[\"REASON OF DEAD\"].value_counts()"
   ]
  },
  {
   "cell_type": "code",
   "execution_count": 7,
   "metadata": {},
   "outputs": [],
   "source": [
    "deaths_counts.to_excel(\"deaths_count.xlsx\", index=True)"
   ]
  },
  {
   "cell_type": "code",
   "execution_count": 19,
   "metadata": {},
   "outputs": [
    {
     "data": {
      "text/html": [
       "<div>\n",
       "<style scoped>\n",
       "    .dataframe tbody tr th:only-of-type {\n",
       "        vertical-align: middle;\n",
       "    }\n",
       "\n",
       "    .dataframe tbody tr th {\n",
       "        vertical-align: top;\n",
       "    }\n",
       "\n",
       "    .dataframe thead th {\n",
       "        text-align: right;\n",
       "    }\n",
       "</style>\n",
       "<table border=\"1\" class=\"dataframe\">\n",
       "  <thead>\n",
       "    <tr style=\"text-align: right;\">\n",
       "      <th></th>\n",
       "      <th>REPORT</th>\n",
       "      <th>PATIENT/NUMBER OF CASES</th>\n",
       "      <th>DRUG</th>\n",
       "      <th>RECEIVED DRUGS</th>\n",
       "      <th>COMMORBILITIES</th>\n",
       "      <th>AGE</th>\n",
       "      <th>REASON OF DEAD</th>\n",
       "      <th>REPORTED COUNTRY</th>\n",
       "    </tr>\n",
       "  </thead>\n",
       "  <tbody>\n",
       "    <tr>\n",
       "      <th>0</th>\n",
       "      <td>803497471</td>\n",
       "      <td>CASE 1</td>\n",
       "      <td>PROPOFOL</td>\n",
       "      <td>CASE 1: oseltamivir, ceftriaxone, hydroxychlor...</td>\n",
       "      <td>Pregnancy</td>\n",
       "      <td>38-year-old pregnant woman</td>\n",
       "      <td>cardiac arrest</td>\n",
       "      <td>IRAN</td>\n",
       "    </tr>\n",
       "    <tr>\n",
       "      <th>1</th>\n",
       "      <td>803494953</td>\n",
       "      <td>CASE 1</td>\n",
       "      <td>PROPOFOL</td>\n",
       "      <td>fentanyl, midazolam, propofol, and neuromuscu...</td>\n",
       "      <td>hypertension</td>\n",
       "      <td>73 year-old man</td>\n",
       "      <td>SARS-CoV-2 infection with acute respiratory</td>\n",
       "      <td>USA</td>\n",
       "    </tr>\n",
       "    <tr>\n",
       "      <th>2</th>\n",
       "      <td>803503289</td>\n",
       "      <td>CASE 1</td>\n",
       "      <td>PIPERACILINA-TAZOBACTAM</td>\n",
       "      <td>azithromycin, hydroxychloroquine, piperacilina...</td>\n",
       "      <td>relapse</td>\n",
       "      <td>51 year-old - woman</td>\n",
       "      <td>cause of death not stated</td>\n",
       "      <td>USA</td>\n",
       "    </tr>\n",
       "    <tr>\n",
       "      <th>3</th>\n",
       "      <td>803502515</td>\n",
       "      <td>CASE 1</td>\n",
       "      <td>PIPERACILINA-TAZOBACTAM</td>\n",
       "      <td>piperacillin/tazobactam and darunavir.</td>\n",
       "      <td>hypertension, dyslipidaemia and chronic kidney...</td>\n",
       "      <td>75 year-old woman</td>\n",
       "      <td>cause of death not stated</td>\n",
       "      <td>ITALY</td>\n",
       "    </tr>\n",
       "    <tr>\n",
       "      <th>4</th>\n",
       "      <td>803502515</td>\n",
       "      <td>CASE 1</td>\n",
       "      <td>PIPERACILINA-TAZOBACTAM</td>\n",
       "      <td>piperacillin/tazobactam and darunavir.</td>\n",
       "      <td>chronic kidney disease</td>\n",
       "      <td>75 year-old woman</td>\n",
       "      <td>cause of death not stated</td>\n",
       "      <td>ITALY</td>\n",
       "    </tr>\n",
       "    <tr>\n",
       "      <th>...</th>\n",
       "      <td>...</td>\n",
       "      <td>...</td>\n",
       "      <td>...</td>\n",
       "      <td>...</td>\n",
       "      <td>...</td>\n",
       "      <td>...</td>\n",
       "      <td>...</td>\n",
       "      <td>...</td>\n",
       "    </tr>\n",
       "    <tr>\n",
       "      <th>106</th>\n",
       "      <td>803487115</td>\n",
       "      <td>3 CASES</td>\n",
       "      <td>TOCILIZUMAB</td>\n",
       "      <td>tocilizumab and methylprednisolone</td>\n",
       "      <td>hypertension</td>\n",
       "      <td>15 patients (12 men and 3 women) aged 62−80 ye...</td>\n",
       "      <td>cause of death not stated</td>\n",
       "      <td>CHINA</td>\n",
       "    </tr>\n",
       "    <tr>\n",
       "      <th>107</th>\n",
       "      <td>803486941</td>\n",
       "      <td>CASE 1</td>\n",
       "      <td>TOCILIZUMAB</td>\n",
       "      <td>azithromycin and meropenem + hydroxychloroquin...</td>\n",
       "      <td>not specified</td>\n",
       "      <td>68-year-old man</td>\n",
       "      <td>septic shock</td>\n",
       "      <td>GREECE</td>\n",
       "    </tr>\n",
       "    <tr>\n",
       "      <th>108</th>\n",
       "      <td>NaN</td>\n",
       "      <td>NaN</td>\n",
       "      <td>NaN</td>\n",
       "      <td>NaN</td>\n",
       "      <td>NaN</td>\n",
       "      <td>NaN</td>\n",
       "      <td>NaN</td>\n",
       "      <td>NaN</td>\n",
       "    </tr>\n",
       "    <tr>\n",
       "      <th>109</th>\n",
       "      <td>NaN</td>\n",
       "      <td>NaN</td>\n",
       "      <td>NaN</td>\n",
       "      <td>NaN</td>\n",
       "      <td>NaN</td>\n",
       "      <td>NaN</td>\n",
       "      <td>NaN</td>\n",
       "      <td>NaN</td>\n",
       "    </tr>\n",
       "    <tr>\n",
       "      <th>110</th>\n",
       "      <td>NOTA: los espacios en blanco corresponde al re...</td>\n",
       "      <td>NaN</td>\n",
       "      <td>NaN</td>\n",
       "      <td>NaN</td>\n",
       "      <td>NaN</td>\n",
       "      <td>NaN</td>\n",
       "      <td>NaN</td>\n",
       "      <td>NaN</td>\n",
       "    </tr>\n",
       "  </tbody>\n",
       "</table>\n",
       "<p>111 rows × 8 columns</p>\n",
       "</div>"
      ],
      "text/plain": [
       "                                                REPORT  \\\n",
       "0                                            803497471   \n",
       "1                                            803494953   \n",
       "2                                            803503289   \n",
       "3                                            803502515   \n",
       "4                                            803502515   \n",
       "..                                                 ...   \n",
       "106                                          803487115   \n",
       "107                                          803486941   \n",
       "108                                                NaN   \n",
       "109                                                NaN   \n",
       "110  NOTA: los espacios en blanco corresponde al re...   \n",
       "\n",
       "    PATIENT/NUMBER OF CASES                     DRUG  \\\n",
       "0                    CASE 1                 PROPOFOL   \n",
       "1                    CASE 1                 PROPOFOL   \n",
       "2                    CASE 1  PIPERACILINA-TAZOBACTAM   \n",
       "3                    CASE 1  PIPERACILINA-TAZOBACTAM   \n",
       "4                    CASE 1  PIPERACILINA-TAZOBACTAM   \n",
       "..                      ...                      ...   \n",
       "106                 3 CASES              TOCILIZUMAB   \n",
       "107                  CASE 1              TOCILIZUMAB   \n",
       "108                     NaN                      NaN   \n",
       "109                     NaN                      NaN   \n",
       "110                     NaN                      NaN   \n",
       "\n",
       "                                        RECEIVED DRUGS  \\\n",
       "0    CASE 1: oseltamivir, ceftriaxone, hydroxychlor...   \n",
       "1     fentanyl, midazolam, propofol, and neuromuscu...   \n",
       "2    azithromycin, hydroxychloroquine, piperacilina...   \n",
       "3               piperacillin/tazobactam and darunavir.   \n",
       "4               piperacillin/tazobactam and darunavir.   \n",
       "..                                                 ...   \n",
       "106                 tocilizumab and methylprednisolone   \n",
       "107  azithromycin and meropenem + hydroxychloroquin...   \n",
       "108                                                NaN   \n",
       "109                                                NaN   \n",
       "110                                                NaN   \n",
       "\n",
       "                                        COMMORBILITIES  \\\n",
       "0                                            Pregnancy   \n",
       "1                                        hypertension    \n",
       "2                                              relapse   \n",
       "3    hypertension, dyslipidaemia and chronic kidney...   \n",
       "4                               chronic kidney disease   \n",
       "..                                                 ...   \n",
       "106                                      hypertension    \n",
       "107                                      not specified   \n",
       "108                                                NaN   \n",
       "109                                                NaN   \n",
       "110                                                NaN   \n",
       "\n",
       "                                                   AGE  \\\n",
       "0                           38-year-old pregnant woman   \n",
       "1                                      73 year-old man   \n",
       "2                                  51 year-old - woman   \n",
       "3                                    75 year-old woman   \n",
       "4                                    75 year-old woman   \n",
       "..                                                 ...   \n",
       "106  15 patients (12 men and 3 women) aged 62−80 ye...   \n",
       "107                                    68-year-old man   \n",
       "108                                                NaN   \n",
       "109                                                NaN   \n",
       "110                                                NaN   \n",
       "\n",
       "                                    REASON OF DEAD REPORTED COUNTRY  \n",
       "0                                   cardiac arrest             IRAN  \n",
       "1     SARS-CoV-2 infection with acute respiratory               USA  \n",
       "2                       cause of death not stated               USA  \n",
       "3                       cause of death not stated             ITALY  \n",
       "4                       cause of death not stated             ITALY  \n",
       "..                                             ...              ...  \n",
       "106                      cause of death not stated            CHINA  \n",
       "107                                   septic shock           GREECE  \n",
       "108                                            NaN              NaN  \n",
       "109                                            NaN              NaN  \n",
       "110                                            NaN              NaN  \n",
       "\n",
       "[111 rows x 8 columns]"
      ]
     },
     "execution_count": 19,
     "metadata": {},
     "output_type": "execute_result"
    }
   ],
   "source": [
    "deaths"
   ]
  },
  {
   "cell_type": "code",
   "execution_count": 8,
   "metadata": {},
   "outputs": [],
   "source": [
    "medicamentos = pd.read_excel(\"Relación muertes-fármaco_original.xlsx\")"
   ]
  },
  {
   "cell_type": "code",
   "execution_count": 9,
   "metadata": {},
   "outputs": [],
   "source": [
    "medicamentos_muertes_counts = medicamentos[\"DRUG\"].value_counts()"
   ]
  },
  {
   "cell_type": "code",
   "execution_count": 57,
   "metadata": {},
   "outputs": [
    {
     "data": {
      "text/plain": [
       "HIDROXICLOROQUINA          23\n",
       "NOREPINEFRINA              11\n",
       "LOPINAVIR                  10\n",
       "PIPERACILINA-TAZOBACTAM     7\n",
       "DEXAMETHASONE               6\n",
       "MEROPENEM                   5\n",
       "OSELTALMIVIR                5\n",
       "TOCILIZUMAB                 4\n",
       "CHLOROQUINE                 2\n",
       "HEPARINA                    2\n",
       "PROPOFOL                    2\n",
       "LINEZOLID                   1\n",
       "TRIMETOPRIM                 1\n",
       "REMDESIVIIR                 1\n",
       "CEFTRIAXONE                 1\n",
       "MIDAZOLAM                   1\n",
       "Name: DRUG (carpeta del fármaco en la que se encontró el reporte), dtype: int64"
      ]
     },
     "execution_count": 57,
     "metadata": {},
     "output_type": "execute_result"
    }
   ],
   "source": [
    "medicamentos_muertes_counts"
   ]
  },
  {
   "cell_type": "code",
   "execution_count": 23,
   "metadata": {},
   "outputs": [],
   "source": [
    "medicamentos_muertes_counts.to_excel(\"drug_death_count.xlsx\", index=True)"
   ]
  },
  {
   "cell_type": "code",
   "execution_count": 12,
   "metadata": {},
   "outputs": [
    {
     "ename": "AttributeError",
     "evalue": "'DataFrame' object has no attribute 'REASON_OF_DEATH'",
     "output_type": "error",
     "traceback": [
      "\u001b[0;31m---------------------------------------------------------------------------\u001b[0m",
      "\u001b[0;31mAttributeError\u001b[0m                            Traceback (most recent call last)",
      "\u001b[0;32m<ipython-input-12-af4f805d9e4d>\u001b[0m in \u001b[0;36m<module>\u001b[0;34m\u001b[0m\n\u001b[0;32m----> 1\u001b[0;31m \u001b[0mcommorbilities\u001b[0m\u001b[0;34m[\u001b[0m\u001b[0mcommorbilities\u001b[0m\u001b[0;34m.\u001b[0m\u001b[0mDRUG\u001b[0m \u001b[0;34m==\u001b[0m \u001b[0;34m\"OSELTALMIVIR\"\u001b[0m\u001b[0;34m]\u001b[0m\u001b[0;34m.\u001b[0m\u001b[0mREASON_OF_DEATH\u001b[0m\u001b[0;34m.\u001b[0m\u001b[0mvalue_counts\u001b[0m\u001b[0;34m(\u001b[0m\u001b[0;34m)\u001b[0m\u001b[0;34m\u001b[0m\u001b[0;34m\u001b[0m\u001b[0m\n\u001b[0m",
      "\u001b[0;32m~/opt/anaconda3/lib/python3.8/site-packages/pandas/core/generic.py\u001b[0m in \u001b[0;36m__getattr__\u001b[0;34m(self, name)\u001b[0m\n\u001b[1;32m   5272\u001b[0m             \u001b[0;32mif\u001b[0m \u001b[0mself\u001b[0m\u001b[0;34m.\u001b[0m\u001b[0m_info_axis\u001b[0m\u001b[0;34m.\u001b[0m\u001b[0m_can_hold_identifiers_and_holds_name\u001b[0m\u001b[0;34m(\u001b[0m\u001b[0mname\u001b[0m\u001b[0;34m)\u001b[0m\u001b[0;34m:\u001b[0m\u001b[0;34m\u001b[0m\u001b[0;34m\u001b[0m\u001b[0m\n\u001b[1;32m   5273\u001b[0m                 \u001b[0;32mreturn\u001b[0m \u001b[0mself\u001b[0m\u001b[0;34m[\u001b[0m\u001b[0mname\u001b[0m\u001b[0;34m]\u001b[0m\u001b[0;34m\u001b[0m\u001b[0;34m\u001b[0m\u001b[0m\n\u001b[0;32m-> 5274\u001b[0;31m             \u001b[0;32mreturn\u001b[0m \u001b[0mobject\u001b[0m\u001b[0;34m.\u001b[0m\u001b[0m__getattribute__\u001b[0m\u001b[0;34m(\u001b[0m\u001b[0mself\u001b[0m\u001b[0;34m,\u001b[0m \u001b[0mname\u001b[0m\u001b[0;34m)\u001b[0m\u001b[0;34m\u001b[0m\u001b[0;34m\u001b[0m\u001b[0m\n\u001b[0m\u001b[1;32m   5275\u001b[0m \u001b[0;34m\u001b[0m\u001b[0m\n\u001b[1;32m   5276\u001b[0m     \u001b[0;32mdef\u001b[0m \u001b[0m__setattr__\u001b[0m\u001b[0;34m(\u001b[0m\u001b[0mself\u001b[0m\u001b[0;34m,\u001b[0m \u001b[0mname\u001b[0m\u001b[0;34m:\u001b[0m \u001b[0mstr\u001b[0m\u001b[0;34m,\u001b[0m \u001b[0mvalue\u001b[0m\u001b[0;34m)\u001b[0m \u001b[0;34m->\u001b[0m \u001b[0;32mNone\u001b[0m\u001b[0;34m:\u001b[0m\u001b[0;34m\u001b[0m\u001b[0;34m\u001b[0m\u001b[0m\n",
      "\u001b[0;31mAttributeError\u001b[0m: 'DataFrame' object has no attribute 'REASON_OF_DEATH'"
     ]
    }
   ],
   "source": [
    "commorbilities[commorbilities.DRUG == \"OSELTALMIVIR\"].REASON_OF_DEATH.value_counts()"
   ]
  },
  {
   "cell_type": "code",
   "execution_count": null,
   "metadata": {},
   "outputs": [],
   "source": []
  }
 ],
 "metadata": {
  "kernelspec": {
   "display_name": "Python 3",
   "language": "python",
   "name": "python3"
  },
  "language_info": {
   "codemirror_mode": {
    "name": "ipython",
    "version": 3
   },
   "file_extension": ".py",
   "mimetype": "text/x-python",
   "name": "python",
   "nbconvert_exporter": "python",
   "pygments_lexer": "ipython3",
   "version": "3.8.3"
  }
 },
 "nbformat": 4,
 "nbformat_minor": 5
}
