{
 "cells": [
  {
   "cell_type": "code",
   "execution_count": 1,
   "metadata": {},
   "outputs": [],
   "source": [
    "import os\n",
    "import pandas as pd"
   ]
  },
  {
   "cell_type": "code",
   "execution_count": 2,
   "metadata": {},
   "outputs": [],
   "source": [
    "table_2020 = pd.DataFrame(columns=[\"medicamento\", \"num_casos_2020\"])"
   ]
  },
  {
   "cell_type": "code",
   "execution_count": 4,
   "metadata": {},
   "outputs": [],
   "source": [
    "folder = \"2020_covid\"\n",
    "\n",
    "files = os.listdir(folder)\n",
    "for i in files:\n",
    "    if i.endswith(\".xlsx\"):\n",
    "        table = pd.read_excel(os.path.join(folder, i))\n",
    "        tot_cases = table[\"Number of Cases\"].sum()\n",
    "        medicamento = i.split(\"_\")[0]\n",
    "        to_append = pd.DataFrame({\"medicamento\":[medicamento], \"num_casos_2020\": [tot_cases]})\n",
    "        table_2020 = table_2020.append(to_append)"
   ]
  },
  {
   "cell_type": "code",
   "execution_count": 5,
   "metadata": {},
   "outputs": [],
   "source": [
    "table_2019 = pd.DataFrame(columns=[\"medicamento\", \"num_casos_2019\"])"
   ]
  },
  {
   "cell_type": "code",
   "execution_count": 6,
   "metadata": {},
   "outputs": [],
   "source": [
    "folder = \"2019\"\n",
    "\n",
    "files = os.listdir(folder)\n",
    "for i in files:\n",
    "    if i.endswith(\".xlsx\"):\n",
    "        table = pd.read_excel(os.path.join(folder, i))\n",
    "        tot_cases = table[\"Number of Cases\"].sum()\n",
    "        medicamento = i.split(\"_\")[0]\n",
    "        to_append = pd.DataFrame({\"medicamento\":[medicamento], \"num_casos_2019\": [tot_cases]})\n",
    "        table_2019 = table_2019.append(to_append)"
   ]
  },
  {
   "cell_type": "code",
   "execution_count": 6,
   "metadata": {},
   "outputs": [],
   "source": [
    "result = pd.merge(table_2020, table_2019, on=\"medicamento\", how=\"outer\").fillna(0)"
   ]
  },
  {
   "cell_type": "code",
   "execution_count": 7,
   "metadata": {},
   "outputs": [],
   "source": [
    "result[[\"num_casos_2020\", \"num_casos_2019\"]] = result[[\"num_casos_2020\", \"num_casos_2019\"]].astype(int)"
   ]
  },
  {
   "cell_type": "code",
   "execution_count": 8,
   "metadata": {},
   "outputs": [],
   "source": [
    "result.to_excel(\"cases_2019_2020.xlsx\", index=False)"
   ]
  },
  {
   "cell_type": "markdown",
   "metadata": {},
   "source": [
    "# Keywords"
   ]
  },
  {
   "cell_type": "code",
   "execution_count": 7,
   "metadata": {},
   "outputs": [],
   "source": [
    "keywords = [\"coronavirus\", \"covid\", \"sars-cov2\", \"off label\", \"covid-19\"]"
   ]
  },
  {
   "cell_type": "code",
   "execution_count": 3,
   "metadata": {},
   "outputs": [],
   "source": [
    "table_2020_keyword = pd.DataFrame(columns=[\"medicamento\", \"num_casos_2020_covid\"])"
   ]
  },
  {
   "cell_type": "code",
   "execution_count": 112,
   "metadata": {},
   "outputs": [],
   "source": [
    "folder = \"2020_covid\"\n",
    "\n",
    "files = os.listdir(folder)\n",
    "for i in files:\n",
    "    if i.endswith(\".xlsx\"):\n",
    "        data = pd.read_excel(os.path.join(folder, i))\n",
    "\n",
    "        for word in keywords:\n",
    "            data[word] = data.apply(lambda row: row.astype(str).str.contains(word.lower(), case=False).any(), axis=1)\n",
    "        \n",
    "        \n",
    "        data[\"total_keywords\"] = data.iloc[:, -len(keywords):].sum(axis=1)\n",
    "        \n",
    "        data = data[data[\"total_keywords\"] > 0]\n",
    "        \n",
    "        \n",
    "        tot_cases = data[\"Number of Cases\"].sum()\n",
    "        medicamento = i.split(\"_\")[0]\n",
    "        to_append = pd.DataFrame({\"medicamento\":[medicamento], \"num_casos_2020_covid\": [tot_cases]})\n",
    "        table_2020_keyword = table_2020_keyword.append(to_append)"
   ]
  },
  {
   "cell_type": "code",
   "execution_count": 116,
   "metadata": {},
   "outputs": [],
   "source": [
    "result = pd.merge(result, table_2020_keyword, on=\"medicamento\", how=\"outer\").fillna(0)"
   ]
  },
  {
   "cell_type": "code",
   "execution_count": 117,
   "metadata": {},
   "outputs": [],
   "source": [
    "result[\"num_casos_2020_covid\"] = result.num_casos_2020_covid.astype(int)"
   ]
  },
  {
   "cell_type": "code",
   "execution_count": 119,
   "metadata": {},
   "outputs": [],
   "source": [
    "result.to_excel(\"cases_2019_2020.xlsx\", index=False)"
   ]
  },
  {
   "cell_type": "code",
   "execution_count": 2,
   "metadata": {},
   "outputs": [],
   "source": [
    "#COUNTRIES"
   ]
  },
  {
   "cell_type": "code",
   "execution_count": 11,
   "metadata": {},
   "outputs": [],
   "source": [
    "import pandas as pd\n",
    "import os\n",
    "import glob"
   ]
  },
  {
   "cell_type": "code",
   "execution_count": 13,
   "metadata": {},
   "outputs": [
    {
     "data": {
      "text/html": [
       "<div>\n",
       "<style scoped>\n",
       "    .dataframe tbody tr th:only-of-type {\n",
       "        vertical-align: middle;\n",
       "    }\n",
       "\n",
       "    .dataframe tbody tr th {\n",
       "        vertical-align: top;\n",
       "    }\n",
       "\n",
       "    .dataframe thead th {\n",
       "        text-align: right;\n",
       "    }\n",
       "</style>\n",
       "<table border=\"1\" class=\"dataframe\">\n",
       "  <thead>\n",
       "    <tr style=\"text-align: right;\">\n",
       "      <th></th>\n",
       "      <th>Report Id</th>\n",
       "      <th>Safety Report Name</th>\n",
       "      <th>Record Type</th>\n",
       "      <th>Release Date</th>\n",
       "      <th>Drugs</th>\n",
       "      <th>Adverse Events</th>\n",
       "      <th>Mechanism of Action</th>\n",
       "      <th>Number of Cases</th>\n",
       "      <th>Serious</th>\n",
       "      <th>First Report</th>\n",
       "      <th>...</th>\n",
       "      <th>Reporter Country</th>\n",
       "      <th>Source Country</th>\n",
       "      <th>Country of publication</th>\n",
       "      <th>Drug Class</th>\n",
       "      <th>Age Group</th>\n",
       "      <th>Route Of Administration</th>\n",
       "      <th>Treatment</th>\n",
       "      <th>Special Situation</th>\n",
       "      <th>References</th>\n",
       "      <th>URL</th>\n",
       "    </tr>\n",
       "  </thead>\n",
       "  <tbody>\n",
       "    <tr>\n",
       "      <th>0</th>\n",
       "      <td>803443306</td>\n",
       "      <td>Antibacterials/betamethasone - Exposure during...</td>\n",
       "      <td>Special Situation Case Report</td>\n",
       "      <td>2019-12-27</td>\n",
       "      <td>Ampicillin adverse reactions, Ampicillin/sulba...</td>\n",
       "      <td>NaN</td>\n",
       "      <td>NaN</td>\n",
       "      <td>1.0</td>\n",
       "      <td>No</td>\n",
       "      <td>No</td>\n",
       "      <td>...</td>\n",
       "      <td>Turkey</td>\n",
       "      <td>NaN</td>\n",
       "      <td>Turkey</td>\n",
       "      <td>Anti-inflammatories , Antiallergics , Antiasth...</td>\n",
       "      <td>NaN</td>\n",
       "      <td>Intravenous, Oral, Vaginal</td>\n",
       "      <td>NaN</td>\n",
       "      <td>NaN</td>\n",
       "      <td>1. Ercan CM, Aydogan U, Karasahin KE, Alanbay ...</td>\n",
       "      <td>https://adisinsight.springer.com/drugsafety/80...</td>\n",
       "    </tr>\n",
       "    <tr>\n",
       "      <th>1</th>\n",
       "      <td>803443282</td>\n",
       "      <td>Multiple drugs - Exposure during pregnancy: ca...</td>\n",
       "      <td>Special Situation Case Report</td>\n",
       "      <td>2019-12-26</td>\n",
       "      <td>Betamethasone adverse reactions, Nicardipine a...</td>\n",
       "      <td>NaN</td>\n",
       "      <td>NaN</td>\n",
       "      <td>1.0</td>\n",
       "      <td>No</td>\n",
       "      <td>No</td>\n",
       "      <td>...</td>\n",
       "      <td>Vietnam</td>\n",
       "      <td>NaN</td>\n",
       "      <td>Netherlands</td>\n",
       "      <td>Amines , Anti-inflammatories , Antiallergics ,...</td>\n",
       "      <td>NaN</td>\n",
       "      <td>Intramuscular, Intravenous, Oral</td>\n",
       "      <td>NaN</td>\n",
       "      <td>NaN</td>\n",
       "      <td>1. Tien TQ, Bang HT. Surgical treatment of acu...</td>\n",
       "      <td>https://adisinsight.springer.com/drugsafety/80...</td>\n",
       "    </tr>\n",
       "    <tr>\n",
       "      <th>2</th>\n",
       "      <td>803442954</td>\n",
       "      <td>Betamethasone/methyldopa - Exposure during pre...</td>\n",
       "      <td>Special Situation Case Report</td>\n",
       "      <td>2019-12-24</td>\n",
       "      <td>Betamethasone adverse reactions, Methyldopa ad...</td>\n",
       "      <td>NaN</td>\n",
       "      <td>NaN</td>\n",
       "      <td>1.0</td>\n",
       "      <td>No</td>\n",
       "      <td>No</td>\n",
       "      <td>...</td>\n",
       "      <td>India</td>\n",
       "      <td>NaN</td>\n",
       "      <td>Turkey</td>\n",
       "      <td>Anti-inflammatories , Antiallergics , Antiasth...</td>\n",
       "      <td>NaN</td>\n",
       "      <td>NaN</td>\n",
       "      <td>NaN</td>\n",
       "      <td>NaN</td>\n",
       "      <td>1. Sinha R, Sachan S, Khanna A. Successful out...</td>\n",
       "      <td>https://adisinsight.springer.com/drugsafety/80...</td>\n",
       "    </tr>\n",
       "    <tr>\n",
       "      <th>3</th>\n",
       "      <td>803443143</td>\n",
       "      <td>Betamethasone/nifedipine/ringer's-lactate - Dr...</td>\n",
       "      <td>Special Situation Case Report</td>\n",
       "      <td>2019-12-24</td>\n",
       "      <td>Betamethasone adverse reactions, Nifedipine ad...</td>\n",
       "      <td>NaN</td>\n",
       "      <td>NaN</td>\n",
       "      <td>1.0</td>\n",
       "      <td>No</td>\n",
       "      <td>No</td>\n",
       "      <td>...</td>\n",
       "      <td>Turkey</td>\n",
       "      <td>NaN</td>\n",
       "      <td>Australia</td>\n",
       "      <td>Anti-inflammatories , Antiallergics , Antiasth...</td>\n",
       "      <td>NaN</td>\n",
       "      <td>Intramuscular, Oral</td>\n",
       "      <td>NaN</td>\n",
       "      <td>NaN</td>\n",
       "      <td>1. Inan C, Sayin C, Dolgun N, Uzun I, Erzincan...</td>\n",
       "      <td>https://adisinsight.springer.com/drugsafety/80...</td>\n",
       "    </tr>\n",
       "    <tr>\n",
       "      <th>4</th>\n",
       "      <td>803440672</td>\n",
       "      <td>Betamethasone - Exposure during pregnancy: 4 c...</td>\n",
       "      <td>Special Situation Case Report</td>\n",
       "      <td>2019-12-13</td>\n",
       "      <td>Betamethasone adverse reactions</td>\n",
       "      <td>NaN</td>\n",
       "      <td>NaN</td>\n",
       "      <td>4.0</td>\n",
       "      <td>No</td>\n",
       "      <td>No</td>\n",
       "      <td>...</td>\n",
       "      <td>Turkey</td>\n",
       "      <td>NaN</td>\n",
       "      <td>England</td>\n",
       "      <td>Anti-inflammatories , Antiallergics , Antiasth...</td>\n",
       "      <td>NaN</td>\n",
       "      <td>NaN</td>\n",
       "      <td>NaN</td>\n",
       "      <td>NaN</td>\n",
       "      <td>1. Alici Davutoglu E, Ozel A, Oztunc F, Madazl...</td>\n",
       "      <td>https://adisinsight.springer.com/drugsafety/80...</td>\n",
       "    </tr>\n",
       "  </tbody>\n",
       "</table>\n",
       "<p>5 rows × 23 columns</p>\n",
       "</div>"
      ],
      "text/plain": [
       "   Report Id                                 Safety Report Name  \\\n",
       "0  803443306  Antibacterials/betamethasone - Exposure during...   \n",
       "1  803443282  Multiple drugs - Exposure during pregnancy: ca...   \n",
       "2  803442954  Betamethasone/methyldopa - Exposure during pre...   \n",
       "3  803443143  Betamethasone/nifedipine/ringer's-lactate - Dr...   \n",
       "4  803440672  Betamethasone - Exposure during pregnancy: 4 c...   \n",
       "\n",
       "                     Record Type Release Date  \\\n",
       "0  Special Situation Case Report   2019-12-27   \n",
       "1  Special Situation Case Report   2019-12-26   \n",
       "2  Special Situation Case Report   2019-12-24   \n",
       "3  Special Situation Case Report   2019-12-24   \n",
       "4  Special Situation Case Report   2019-12-13   \n",
       "\n",
       "                                               Drugs Adverse Events  \\\n",
       "0  Ampicillin adverse reactions, Ampicillin/sulba...            NaN   \n",
       "1  Betamethasone adverse reactions, Nicardipine a...            NaN   \n",
       "2  Betamethasone adverse reactions, Methyldopa ad...            NaN   \n",
       "3  Betamethasone adverse reactions, Nifedipine ad...            NaN   \n",
       "4                    Betamethasone adverse reactions            NaN   \n",
       "\n",
       "   Mechanism of Action  Number of Cases Serious First Report  ...  \\\n",
       "0                  NaN              1.0      No           No  ...   \n",
       "1                  NaN              1.0      No           No  ...   \n",
       "2                  NaN              1.0      No           No  ...   \n",
       "3                  NaN              1.0      No           No  ...   \n",
       "4                  NaN              4.0      No           No  ...   \n",
       "\n",
       "  Reporter Country Source Country Country of publication  \\\n",
       "0           Turkey            NaN                 Turkey   \n",
       "1          Vietnam            NaN            Netherlands   \n",
       "2            India            NaN                 Turkey   \n",
       "3           Turkey            NaN              Australia   \n",
       "4           Turkey            NaN                England   \n",
       "\n",
       "                                          Drug Class Age Group  \\\n",
       "0  Anti-inflammatories , Antiallergics , Antiasth...       NaN   \n",
       "1  Amines , Anti-inflammatories , Antiallergics ,...       NaN   \n",
       "2  Anti-inflammatories , Antiallergics , Antiasth...       NaN   \n",
       "3  Anti-inflammatories , Antiallergics , Antiasth...       NaN   \n",
       "4  Anti-inflammatories , Antiallergics , Antiasth...       NaN   \n",
       "\n",
       "            Route Of Administration Treatment Special Situation  \\\n",
       "0        Intravenous, Oral, Vaginal       NaN               NaN   \n",
       "1  Intramuscular, Intravenous, Oral       NaN               NaN   \n",
       "2                               NaN       NaN               NaN   \n",
       "3               Intramuscular, Oral       NaN               NaN   \n",
       "4                               NaN       NaN               NaN   \n",
       "\n",
       "                                          References  \\\n",
       "0  1. Ercan CM, Aydogan U, Karasahin KE, Alanbay ...   \n",
       "1  1. Tien TQ, Bang HT. Surgical treatment of acu...   \n",
       "2  1. Sinha R, Sachan S, Khanna A. Successful out...   \n",
       "3  1. Inan C, Sayin C, Dolgun N, Uzun I, Erzincan...   \n",
       "4  1. Alici Davutoglu E, Ozel A, Oztunc F, Madazl...   \n",
       "\n",
       "                                                 URL  \n",
       "0  https://adisinsight.springer.com/drugsafety/80...  \n",
       "1  https://adisinsight.springer.com/drugsafety/80...  \n",
       "2  https://adisinsight.springer.com/drugsafety/80...  \n",
       "3  https://adisinsight.springer.com/drugsafety/80...  \n",
       "4  https://adisinsight.springer.com/drugsafety/80...  \n",
       "\n",
       "[5 rows x 23 columns]"
      ]
     },
     "execution_count": 13,
     "metadata": {},
     "output_type": "execute_result"
    }
   ],
   "source": [
    "files_covid = os.listdir(\"2019/\")\n",
    "\n",
    "df = pd.DataFrame()\n",
    "for file in files_covid :\n",
    "     if file.endswith('.xlsx'):\n",
    "            df = df.append(pd.read_excel(os.path.join(\"2019/\", file)), ignore_index=True) \n",
    "df.head()"
   ]
  },
  {
   "cell_type": "code",
   "execution_count": 14,
   "metadata": {},
   "outputs": [],
   "source": [
    "df.to_excel(\"Appended_2019.xlsx\", index=False)"
   ]
  },
  {
   "cell_type": "code",
   "execution_count": 15,
   "metadata": {},
   "outputs": [],
   "source": [
    "\n",
    "allfiles = pd.read_excel(\"Appended_2019.xlsx\")"
   ]
  },
  {
   "cell_type": "code",
   "execution_count": 16,
   "metadata": {},
   "outputs": [
    {
     "data": {
      "text/plain": [
       "USA                     1707\n",
       "England                  932\n",
       "Netherlands              186\n",
       "Japan                    158\n",
       "India                    149\n",
       "                        ... \n",
       "Philippines                1\n",
       "Spain, England             1\n",
       "New Zealand, England       1\n",
       "Lithuania                  1\n",
       "Ukraine                    1\n",
       "Name: Country of publication, Length: 74, dtype: int64"
      ]
     },
     "execution_count": 16,
     "metadata": {},
     "output_type": "execute_result"
    }
   ],
   "source": [
    "allfiles[\"Country of publication\"].value_counts()"
   ]
  },
  {
   "cell_type": "code",
   "execution_count": 17,
   "metadata": {},
   "outputs": [
    {
     "data": {
      "text/plain": [
       "Elderly                                     1031\n",
       "Children                                     250\n",
       "Adolescents                                  131\n",
       "Infants                                       67\n",
       "Neonates                                      62\n",
       "Adolescents, Children                         49\n",
       "Adolescents, Children, Elderly                30\n",
       "Children, Infants                             24\n",
       "Adolescents, Elderly                          17\n",
       "Adolescents, Children, Infants                15\n",
       "Children, Elderly                             15\n",
       "Infants, Neonates                              9\n",
       "Adolescents, Children, Elderly, Infants        7\n",
       "Fetus                                          6\n",
       "Fetus, Neonates                                2\n",
       "Children, Neonates                             1\n",
       "Elderly, Infants                               1\n",
       "Children, Elderly, Infants                     1\n",
       "Adolescents, Children, Infants, Neonates       1\n",
       "Name: Age Group, dtype: int64"
      ]
     },
     "execution_count": 17,
     "metadata": {},
     "output_type": "execute_result"
    }
   ],
   "source": [
    "allfiles[\"Age Group\"].value_counts()"
   ]
  },
  {
   "cell_type": "code",
   "execution_count": 67,
   "metadata": {},
   "outputs": [],
   "source": [
    "country_df = allfiles[\"Country of publication\"].value_counts()"
   ]
  },
  {
   "cell_type": "code",
   "execution_count": 68,
   "metadata": {},
   "outputs": [],
   "source": [
    "country_df.to_excel(\"country_count.xlsx\", index=True)"
   ]
  },
  {
   "cell_type": "code",
   "execution_count": 62,
   "metadata": {},
   "outputs": [
    {
     "data": {
      "text/plain": [
       "USA            1867\n",
       "England         883\n",
       "Netherlands     296\n",
       "Germany         183\n",
       "India           147\n",
       "               ... \n",
       "Slovakia          1\n",
       "Qatar             1\n",
       "Bulgaria          1\n",
       "Lithuania         1\n",
       "Nigeria           1\n",
       "Name: Country of publication, Length: 69, dtype: int64"
      ]
     },
     "execution_count": 62,
     "metadata": {},
     "output_type": "execute_result"
    }
   ],
   "source": [
    "country_df"
   ]
  },
  {
   "cell_type": "code",
   "execution_count": 73,
   "metadata": {},
   "outputs": [],
   "source": [
    "age_groups = allfiles[\"Age Group\"].value_counts()"
   ]
  },
  {
   "cell_type": "code",
   "execution_count": 74,
   "metadata": {},
   "outputs": [],
   "source": [
    "age_groups.to_excel(\"age_groups.xlsx\", index=True)"
   ]
  },
  {
   "cell_type": "code",
   "execution_count": 59,
   "metadata": {},
   "outputs": [],
   "source": [
    "table_2020_keyword_countries = pd.DataFrame(columns=[\"Country\", \"Count\"])"
   ]
  },
  {
   "cell_type": "code",
   "execution_count": 76,
   "metadata": {},
   "outputs": [],
   "source": [
    "for word in keywords:\n",
    "    allfiles[word] = allfiles.apply(lambda row: row.astype(str).str.contains(word.lower(), case=False).any(), axis=1)\n",
    "\n",
    "\n",
    "allfiles[\"total_keywords\"] = allfiles.iloc[:, -len(keywords):].sum(axis=1)"
   ]
  },
  {
   "cell_type": "code",
   "execution_count": 77,
   "metadata": {},
   "outputs": [],
   "source": [
    "allfiles = allfiles[allfiles[\"total_keywords\"] > 0]"
   ]
  },
  {
   "cell_type": "code",
   "execution_count": 79,
   "metadata": {},
   "outputs": [],
   "source": [
    "country_tot = allfiles[\"Country of publication\"].value_counts()"
   ]
  },
  {
   "cell_type": "code",
   "execution_count": 80,
   "metadata": {},
   "outputs": [],
   "source": [
    "country_tot.to_excel(\"country_count_covid_only.xlsx\")"
   ]
  },
  {
   "cell_type": "code",
   "execution_count": 81,
   "metadata": {},
   "outputs": [],
   "source": [
    "age_covid = allfiles[\"Age Group\"].value_counts()"
   ]
  },
  {
   "cell_type": "code",
   "execution_count": 82,
   "metadata": {},
   "outputs": [],
   "source": [
    "age_covid.to_excel(\"Age_count_covid_only.xlsx\")"
   ]
  },
  {
   "cell_type": "markdown",
   "metadata": {},
   "source": [
    "# co-medicaciones "
   ]
  },
  {
   "cell_type": "code",
   "execution_count": 3,
   "metadata": {},
   "outputs": [],
   "source": [
    "def get_comedicaciones(excel_filepath, covid_med_folder=\"2020/\"):\n",
    "    # get med keyword names\n",
    "    files = os.listdir(covid_med_folder)\n",
    "    lista_med = []\n",
    "    for file in files:\n",
    "        if file.endswith(\"xlsx\"):\n",
    "            to_add = file.split(\"_\")[0].lower()\n",
    "            lista_med.append(to_add)\n",
    "        \n",
    "    # final_df initializing\n",
    "    final_df = pd.DataFrame(columns=[\"medicamento\", \"conteo\", \"medicamento_principal\"])\n",
    "\n",
    "    # reading excel file to get sheet names\n",
    "    xl = pd.ExcelFile(excel_filepath)\n",
    "    \n",
    "    for sheet_name in xl.sheet_names:\n",
    "        archivo = pd.read_excel(excel_filepath, sheet_name=sheet_name).fillna(\"\")\n",
    "\n",
    "        column_names = []\n",
    "        for col in archivo.columns:\n",
    "            if col.startswith(\"CO-MEDICAC\"):\n",
    "                column_names.append(col)\n",
    "        archivo = archivo[column_names]\n",
    "\n",
    "        archivo[\"unidos\"] = \"\"\n",
    "        for col in column_names:\n",
    "            archivo[\"unidos\"] = archivo[\"unidos\"].values + archivo[col].values\n",
    "\n",
    "        archivo[\"unidos\"] = archivo.unidos.apply(lambda x: x.lower())\n",
    "\n",
    "        all_text = \"\"\n",
    "        for string in archivo.unidos.values:\n",
    "            all_text += string + \" \"\n",
    "        all_text = all_text.replace(\"\\n\", \" \")\n",
    "\n",
    "        medicamentos = dict.fromkeys(lista_med,0)\n",
    "        all_text = all_text.split(\" \")\n",
    "\n",
    "        for t in all_text:\n",
    "            if t in lista_med:\n",
    "                medicamentos[t] = medicamentos[t] + 1\n",
    "\n",
    "\n",
    "        medicamentos = pd.DataFrame(medicamentos, index=[0])\n",
    "        medicamentos = medicamentos.T\n",
    "        medicamentos = medicamentos.reset_index()\n",
    "        medicamentos.columns = [\"medicamento\", \"conteo\"]\n",
    "        medicamentos = medicamentos[medicamentos.conteo != 0]\n",
    "        medicamentos[\"medicamento_principal\"] = sheet_name\n",
    "\n",
    "        final_df = final_df.append(medicamentos)\n",
    "    \n",
    "    return final_df"
   ]
  },
  {
   "cell_type": "code",
   "execution_count": 4,
   "metadata": {},
   "outputs": [
    {
     "data": {
      "text/plain": [
       "'fds'"
      ]
     },
     "execution_count": 4,
     "metadata": {},
     "output_type": "execute_result"
    }
   ],
   "source": [
    "os.path.basename(\"2323fdsf/fds_fds.xsls\").split(\"_\")[0]"
   ]
  },
  {
   "cell_type": "code",
   "execution_count": 5,
   "metadata": {},
   "outputs": [
    {
     "data": {
      "text/plain": [
       "True"
      ]
     },
     "execution_count": 5,
     "metadata": {},
     "output_type": "execute_result"
    }
   ],
   "source": [
    "\"FDSFDS\".lower().startswith(\"fds\")"
   ]
  },
  {
   "cell_type": "code",
   "execution_count": 6,
   "metadata": {},
   "outputs": [],
   "source": [
    "def get_comedicaciones_v2(excel_filepath, covid_med_folder=\"2020/\", comedic_folder=\"2020_covid_comedicaciones\"):\n",
    "    # get med keyword names\n",
    "    files = os.listdir(covid_med_folder)\n",
    "    lista_med = []\n",
    "    for file in files:\n",
    "        if file.endswith(\"xlsx\"):\n",
    "            to_add = file.split(\"_\")[0].lower()\n",
    "            lista_med.append(to_add)\n",
    "        \n",
    "    # final_df initializing\n",
    "    final_df = pd.DataFrame(columns=[\"medicamento\", \"conteo\", \"medicamento_principal\"])\n",
    "\n",
    "    # get all_excel_files:\n",
    "    comedic_files = os.listdir(comedic_folder)\n",
    "    lista_comedic = []\n",
    "    for file in comedic_files:\n",
    "        if file.endswith(\"xlsx\"):\n",
    "            lista_comedic.append(os.path.join(comedic_folder, file)) \n",
    "    \n",
    "    # reading excel file to get sheet names\n",
    "    for comedic_excel_file in lista_comedic:\n",
    "        archivo = pd.read_excel(comedic_excel_file)\n",
    "\n",
    "        column_names = []\n",
    "        for col in archivo.columns:\n",
    "            if col.startswith(\"CO-MEDICAC\"):\n",
    "                column_names.append(col)\n",
    "        archivo = archivo[column_names]\n",
    "\n",
    "        archivo[\"unidos\"] = \"\"\n",
    "        for col in column_names:\n",
    "            archivo[\"unidos\"] = archivo[\"unidos\"].values + archivo[col].astype(str).values\n",
    "\n",
    "        archivo[\"unidos\"] = archivo.unidos.apply(lambda x: x.lower())\n",
    "\n",
    "        all_text = \"\"\n",
    "        for string in archivo.unidos.values:\n",
    "            all_text += string + \" \"\n",
    "        all_text = all_text.replace(\"\\n\", \" \")\n",
    "\n",
    "        medicamentos = dict.fromkeys(lista_med,0)\n",
    "        all_text = all_text.split(\" \")\n",
    "\n",
    "        for t in all_text:\n",
    "            if t in lista_med:\n",
    "                medicamentos[t] = medicamentos[t] + 1\n",
    "\n",
    "\n",
    "        medicamentos = pd.DataFrame(medicamentos, index=[0])\n",
    "        medicamentos = medicamentos.T\n",
    "        medicamentos = medicamentos.reset_index()\n",
    "        medicamentos.columns = [\"medicamento\", \"conteo\"]\n",
    "        medicamentos = medicamentos[medicamentos.conteo != 0]\n",
    "        \n",
    "        \n",
    "        medicamentos[\"medicamento_principal\"] = os.path.basename(comedic_excel_file).split(\"_\")[0]\n",
    "\n",
    "        final_df = final_df.append(medicamentos)\n",
    "\n",
    "    return final_df"
   ]
  },
  {
   "cell_type": "code",
   "execution_count": 7,
   "metadata": {},
   "outputs": [],
   "source": [
    "probando = get_comedicaciones_v2(\"fds\")"
   ]
  },
  {
   "cell_type": "code",
   "execution_count": 8,
   "metadata": {},
   "outputs": [
    {
     "data": {
      "text/plain": [
       "(39,)"
      ]
     },
     "execution_count": 8,
     "metadata": {},
     "output_type": "execute_result"
    }
   ],
   "source": [
    "probando.medicamento_principal.unique().shape"
   ]
  },
  {
   "cell_type": "code",
   "execution_count": 9,
   "metadata": {},
   "outputs": [],
   "source": [
    "comedic_files = os.listdir(\"2020_covid_comedicaciones/\")\n",
    "lista_comedic = []\n",
    "for file in comedic_files:\n",
    "    if file.endswith(\"xlsx\"):\n",
    "        lista_comedic.append(file.split(\"_\")[0]) "
   ]
  },
  {
   "cell_type": "code",
   "execution_count": 10,
   "metadata": {},
   "outputs": [
    {
     "name": "stdout",
     "output_type": "stream",
     "text": [
      "AZITHROMYCIN\n",
      "LORAZEPAM\n",
      "LOPINAVIR-RITONAVIR\n",
      "MELATONIN\n"
     ]
    }
   ],
   "source": [
    "for i in lista_comedic:\n",
    "    if i not in probando.medicamento_principal.unique().tolist():\n",
    "        print(i)"
   ]
  },
  {
   "cell_type": "code",
   "execution_count": 39,
   "metadata": {},
   "outputs": [
    {
     "data": {
      "text/html": [
       "<div>\n",
       "<style scoped>\n",
       "    .dataframe tbody tr th:only-of-type {\n",
       "        vertical-align: middle;\n",
       "    }\n",
       "\n",
       "    .dataframe tbody tr th {\n",
       "        vertical-align: top;\n",
       "    }\n",
       "\n",
       "    .dataframe thead th {\n",
       "        text-align: right;\n",
       "    }\n",
       "</style>\n",
       "<table border=\"1\" class=\"dataframe\">\n",
       "  <thead>\n",
       "    <tr style=\"text-align: right;\">\n",
       "      <th></th>\n",
       "      <th>medicamento</th>\n",
       "      <th>conteo</th>\n",
       "      <th>medicamento_principal</th>\n",
       "    </tr>\n",
       "  </thead>\n",
       "  <tbody>\n",
       "    <tr>\n",
       "      <th>8</th>\n",
       "      <td>hydroxychloroquine</td>\n",
       "      <td>2</td>\n",
       "      <td>MORPHINE</td>\n",
       "    </tr>\n",
       "    <tr>\n",
       "      <th>59</th>\n",
       "      <td>morfina</td>\n",
       "      <td>1</td>\n",
       "      <td>MORPHINE</td>\n",
       "    </tr>\n",
       "    <tr>\n",
       "      <th>71</th>\n",
       "      <td>haloperidol</td>\n",
       "      <td>1</td>\n",
       "      <td>MORPHINE</td>\n",
       "    </tr>\n",
       "    <tr>\n",
       "      <th>18</th>\n",
       "      <td>oseltamivir</td>\n",
       "      <td>1</td>\n",
       "      <td>CHLOROQUINE</td>\n",
       "    </tr>\n",
       "    <tr>\n",
       "      <th>22</th>\n",
       "      <td>chloroquine</td>\n",
       "      <td>7</td>\n",
       "      <td>CHLOROQUINE</td>\n",
       "    </tr>\n",
       "    <tr>\n",
       "      <th>...</th>\n",
       "      <td>...</td>\n",
       "      <td>...</td>\n",
       "      <td>...</td>\n",
       "    </tr>\n",
       "    <tr>\n",
       "      <th>46</th>\n",
       "      <td>meropenem</td>\n",
       "      <td>1</td>\n",
       "      <td>INSULINEHUMAN</td>\n",
       "    </tr>\n",
       "    <tr>\n",
       "      <th>48</th>\n",
       "      <td>remdesivir</td>\n",
       "      <td>4</td>\n",
       "      <td>INSULINEHUMAN</td>\n",
       "    </tr>\n",
       "    <tr>\n",
       "      <th>50</th>\n",
       "      <td>paracetamol</td>\n",
       "      <td>1</td>\n",
       "      <td>INSULINEHUMAN</td>\n",
       "    </tr>\n",
       "    <tr>\n",
       "      <th>62</th>\n",
       "      <td>insulina</td>\n",
       "      <td>3</td>\n",
       "      <td>INSULINEHUMAN</td>\n",
       "    </tr>\n",
       "    <tr>\n",
       "      <th>67</th>\n",
       "      <td>azithromycin</td>\n",
       "      <td>2</td>\n",
       "      <td>INSULINEHUMAN</td>\n",
       "    </tr>\n",
       "  </tbody>\n",
       "</table>\n",
       "<p>295 rows × 3 columns</p>\n",
       "</div>"
      ],
      "text/plain": [
       "           medicamento conteo medicamento_principal\n",
       "8   hydroxychloroquine      2              MORPHINE\n",
       "59             morfina      1              MORPHINE\n",
       "71         haloperidol      1              MORPHINE\n",
       "18         oseltamivir      1           CHLOROQUINE\n",
       "22         chloroquine      7           CHLOROQUINE\n",
       "..                 ...    ...                   ...\n",
       "46           meropenem      1         INSULINEHUMAN\n",
       "48          remdesivir      4         INSULINEHUMAN\n",
       "50         paracetamol      1         INSULINEHUMAN\n",
       "62            insulina      3         INSULINEHUMAN\n",
       "67        azithromycin      2         INSULINEHUMAN\n",
       "\n",
       "[295 rows x 3 columns]"
      ]
     },
     "execution_count": 39,
     "metadata": {},
     "output_type": "execute_result"
    }
   ],
   "source": [
    "probando"
   ]
  },
  {
   "cell_type": "code",
   "execution_count": 40,
   "metadata": {},
   "outputs": [],
   "source": [
    "probando = get_comedicaciones_v2(\"co-medicaciones/2020_comedicacionesCOVID_Andrea.xlsx\")"
   ]
  },
  {
   "cell_type": "code",
   "execution_count": 41,
   "metadata": {
    "scrolled": true
   },
   "outputs": [
    {
     "data": {
      "text/html": [
       "<div>\n",
       "<style scoped>\n",
       "    .dataframe tbody tr th:only-of-type {\n",
       "        vertical-align: middle;\n",
       "    }\n",
       "\n",
       "    .dataframe tbody tr th {\n",
       "        vertical-align: top;\n",
       "    }\n",
       "\n",
       "    .dataframe thead th {\n",
       "        text-align: right;\n",
       "    }\n",
       "</style>\n",
       "<table border=\"1\" class=\"dataframe\">\n",
       "  <thead>\n",
       "    <tr style=\"text-align: right;\">\n",
       "      <th></th>\n",
       "      <th>medicamento</th>\n",
       "      <th>conteo</th>\n",
       "      <th>medicamento_principal</th>\n",
       "    </tr>\n",
       "  </thead>\n",
       "  <tbody>\n",
       "    <tr>\n",
       "      <th>8</th>\n",
       "      <td>hydroxychloroquine</td>\n",
       "      <td>2</td>\n",
       "      <td>MORPHINE</td>\n",
       "    </tr>\n",
       "    <tr>\n",
       "      <th>59</th>\n",
       "      <td>morfina</td>\n",
       "      <td>1</td>\n",
       "      <td>MORPHINE</td>\n",
       "    </tr>\n",
       "    <tr>\n",
       "      <th>71</th>\n",
       "      <td>haloperidol</td>\n",
       "      <td>1</td>\n",
       "      <td>MORPHINE</td>\n",
       "    </tr>\n",
       "    <tr>\n",
       "      <th>18</th>\n",
       "      <td>oseltamivir</td>\n",
       "      <td>1</td>\n",
       "      <td>CHLOROQUINE</td>\n",
       "    </tr>\n",
       "    <tr>\n",
       "      <th>22</th>\n",
       "      <td>chloroquine</td>\n",
       "      <td>7</td>\n",
       "      <td>CHLOROQUINE</td>\n",
       "    </tr>\n",
       "    <tr>\n",
       "      <th>...</th>\n",
       "      <td>...</td>\n",
       "      <td>...</td>\n",
       "      <td>...</td>\n",
       "    </tr>\n",
       "    <tr>\n",
       "      <th>46</th>\n",
       "      <td>meropenem</td>\n",
       "      <td>1</td>\n",
       "      <td>INSULINEHUMAN</td>\n",
       "    </tr>\n",
       "    <tr>\n",
       "      <th>48</th>\n",
       "      <td>remdesivir</td>\n",
       "      <td>4</td>\n",
       "      <td>INSULINEHUMAN</td>\n",
       "    </tr>\n",
       "    <tr>\n",
       "      <th>50</th>\n",
       "      <td>paracetamol</td>\n",
       "      <td>1</td>\n",
       "      <td>INSULINEHUMAN</td>\n",
       "    </tr>\n",
       "    <tr>\n",
       "      <th>62</th>\n",
       "      <td>insulina</td>\n",
       "      <td>3</td>\n",
       "      <td>INSULINEHUMAN</td>\n",
       "    </tr>\n",
       "    <tr>\n",
       "      <th>67</th>\n",
       "      <td>azithromycin</td>\n",
       "      <td>2</td>\n",
       "      <td>INSULINEHUMAN</td>\n",
       "    </tr>\n",
       "  </tbody>\n",
       "</table>\n",
       "<p>295 rows × 3 columns</p>\n",
       "</div>"
      ],
      "text/plain": [
       "           medicamento conteo medicamento_principal\n",
       "8   hydroxychloroquine      2              MORPHINE\n",
       "59             morfina      1              MORPHINE\n",
       "71         haloperidol      1              MORPHINE\n",
       "18         oseltamivir      1           CHLOROQUINE\n",
       "22         chloroquine      7           CHLOROQUINE\n",
       "..                 ...    ...                   ...\n",
       "46           meropenem      1         INSULINEHUMAN\n",
       "48          remdesivir      4         INSULINEHUMAN\n",
       "50         paracetamol      1         INSULINEHUMAN\n",
       "62            insulina      3         INSULINEHUMAN\n",
       "67        azithromycin      2         INSULINEHUMAN\n",
       "\n",
       "[295 rows x 3 columns]"
      ]
     },
     "execution_count": 41,
     "metadata": {},
     "output_type": "execute_result"
    }
   ],
   "source": [
    "probando "
   ]
  },
  {
   "cell_type": "code",
   "execution_count": 42,
   "metadata": {},
   "outputs": [],
   "source": [
    "probando.to_excel(\"co-medicaciones.xlsx\", index=False)"
   ]
  },
  {
   "cell_type": "code",
   "execution_count": null,
   "metadata": {},
   "outputs": [],
   "source": [
    "# xl = pd.ExcelFile('co-medicaciones/2020_comedicacionesCOVID_Andrea.xlsx')\n",
    "\n",
    "# files = os.listdir(\"2020_covid/\")\n",
    "\n",
    "# lista_med = []\n",
    "# for i in files:\n",
    "#     if i.endswith(\"xlsx\"):\n",
    "#         to_add = i.split(\"_\")[0].lower()\n",
    "#         lista_med.append(to_add)\n",
    "\n",
    "# archivo = pd.read_excel(\"co-medicaciones/2020_comedicacionesCOVID_Andrea.xlsx\", sheet_name=\"Remdisivir\").fillna(\"\")\n",
    "# archivo = archivo.iloc[:, -5:]\n",
    "# archivo[\"unidos\"] = archivo[\"CO-MEDICACIÓN\"].values + archivo[\"CO-MEDICACIÓN.1\"].values + archivo[\"CO-MEDICACIÓN.2\"].values + archivo[\"CO-MEDICACIÓN.3\"].values + archivo[\"CO-MEDICACIÓN.4\"].values\n",
    "# archivo[\"unidos\"] = archivo.unidos.apply(lambda x: x.lower())\n",
    "\n",
    "# all_text = \"\"\n",
    "\n",
    "# for string in archivo.unidos.values:\n",
    "#     all_text += string + \" \"\n",
    "\n",
    "# all_text = all_text.replace(\"\\n\", \" \")\n",
    "\n",
    "# medicamentos = dict.fromkeys(lista_med,0)\n",
    "\n",
    "# all_text = all_text.split(\" \")\n",
    "\n",
    "# for i in all_text:\n",
    "#     if i in lista_med:\n",
    "#         medicamentos[i] = medicamentos[i] + 1\n",
    "\n",
    "# medicamentos = pd.DataFrame(medicamentos, index=[0])\n",
    "# medicamentos = medicamentos.T\n",
    "# medicamentos = medicamentos.reset_index()\n",
    "# medicamentos.columns = [\"medicamento\", \"conteo\"]\n",
    "# medicamentos = medicamentos[medicamentos.conteo != 0]\n",
    "# medicamentos[\"medicamento_principal\"] = \"remdisivir\""
   ]
  }
 ],
 "metadata": {
  "kernelspec": {
   "display_name": "Python 3",
   "language": "python",
   "name": "python3"
  },
  "language_info": {
   "codemirror_mode": {
    "name": "ipython",
    "version": 3
   },
   "file_extension": ".py",
   "mimetype": "text/x-python",
   "name": "python",
   "nbconvert_exporter": "python",
   "pygments_lexer": "ipython3",
   "version": "3.8.3"
  }
 },
 "nbformat": 4,
 "nbformat_minor": 4
}
